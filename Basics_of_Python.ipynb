{
 "cells": [
  {
   "cell_type": "markdown",
   "id": "ca0b8fad-aa8a-4d20-a387-39297071839d",
   "metadata": {},
   "source": [
    "# Basics of Python"
   ]
  },
  {
   "cell_type": "markdown",
   "id": "3a17d18d-752b-430a-a1c7-f02160452788",
   "metadata": {},
   "source": [
    "### Commenti"
   ]
  },
  {
   "cell_type": "code",
   "execution_count": 1,
   "id": "ef05fa7e-8142-4f43-a4be-5d5200cdea71",
   "metadata": {},
   "outputs": [
    {
     "data": {
      "text/plain": [
       "'\\nCiao, mi chiamo Biagio Lista!\\nCome va???\\n'"
      ]
     },
     "execution_count": 1,
     "metadata": {},
     "output_type": "execute_result"
    }
   ],
   "source": [
    "\"\"\"\n",
    "Ciao, mi chiamo Biagio Lista!\n",
    "Come va???\n",
    "\"\"\""
   ]
  },
  {
   "cell_type": "code",
   "execution_count": 1,
   "id": "a67eef51-fb4b-45fe-b059-172e071b4477",
   "metadata": {},
   "outputs": [],
   "source": [
    "#Ciao, mi chiamo Biagio Lista!\n",
    "#Come va???"
   ]
  },
  {
   "cell_type": "markdown",
   "id": "10b605c5-78bd-4f76-9486-bff060c82626",
   "metadata": {},
   "source": [
    "### Variabili e costanti"
   ]
  },
  {
   "cell_type": "code",
   "execution_count": 8,
   "id": "4b1644af-4ca8-4bfc-841f-4bed749e3879",
   "metadata": {},
   "outputs": [
    {
     "name": "stdout",
     "output_type": "stream",
     "text": [
      "x assume il valore di  20\n"
     ]
    }
   ],
   "source": [
    "# x e y sono dei contenitori a cui vengono assegnati dei valori\n",
    "x = 6 \n",
    "y = 8\n",
    "\n",
    "x = x*2 + y\n",
    "print(\"x assume il valore di \",x)\n",
    "\n",
    "# Le variabili, definibili con lettere minuscole, sono delle grandezze che vedranno una variazione del \n",
    "# valore a loro inizialmente associato.\n",
    "\n",
    "# Le costanti, invece, sono definiti con le lettere maiuscole e non variano il valore da loro contenuto."
   ]
  },
  {
   "cell_type": "markdown",
   "id": "dfae6deb-58b5-4fc4-8db3-711c9cc0c882",
   "metadata": {},
   "source": [
    "### Stringhe\n",
    "\n"
   ]
  },
  {
   "cell_type": "code",
   "execution_count": 3,
   "id": "6837aa4a-8fdc-485c-a79f-2ed0d8d6ab12",
   "metadata": {},
   "outputs": [
    {
     "name": "stdout",
     "output_type": "stream",
     "text": [
      "<class 'str'>\n",
      "Venus\n"
     ]
    }
   ],
   "source": [
    "# Create variables to store the information about a planet in our Solar System\n",
    "planet_name = 'Venus'\n",
    "\n",
    "print(type(planet_name))\n",
    "print(planet_name)"
   ]
  },
  {
   "cell_type": "code",
   "execution_count": 4,
   "id": "18fdbac4-1117-42de-baa0-a3cbb2dffed0",
   "metadata": {},
   "outputs": [],
   "source": [
    "# Gli indici su Python partono sempre da zero."
   ]
  },
  {
   "cell_type": "code",
   "execution_count": 5,
   "id": "1c5af4e3-efd0-4e21-b1cc-2dbb87f9083e",
   "metadata": {},
   "outputs": [
    {
     "name": "stdout",
     "output_type": "stream",
     "text": [
      "<class 'int'>\n",
      "<class 'float'>\n"
     ]
    }
   ],
   "source": [
    "z = 3\n",
    "y = 2.5\n",
    "\n",
    "print(type(z))\n",
    "print(type(y))"
   ]
  },
  {
   "cell_type": "markdown",
   "id": "f65aa0ee-ff7a-44af-b005-6759c8599ecd",
   "metadata": {},
   "source": [
    "### f - String"
   ]
  },
  {
   "cell_type": "code",
   "execution_count": 7,
   "id": "f4256a19-0369-4a86-a277-7cc17c5902d8",
   "metadata": {},
   "outputs": [
    {
     "name": "stdout",
     "output_type": "stream",
     "text": [
      "Saturn has 146 moons\n"
     ]
    }
   ],
   "source": [
    "name_planet = 'Saturn'\n",
    "moons_planet = 146\n",
    "\n",
    "print(f\"{name_planet} has {moons_planet} moons\")"
   ]
  },
  {
   "cell_type": "code",
   "execution_count": 8,
   "id": "d566f34f-802e-4f0d-8d77-815015ef6355",
   "metadata": {},
   "outputs": [
    {
     "name": "stdout",
     "output_type": "stream",
     "text": [
      "Earth is the only planet with life...or maybe not\n"
     ]
    }
   ],
   "source": [
    "#String concatenation\n",
    "str_1 = \"Earth is the only planet with life\"\n",
    "str_2 = \"...or maybe not\"\n",
    "\n",
    "print(f\"{str_1 + str_2}\")"
   ]
  },
  {
   "cell_type": "markdown",
   "id": "b270966b-12ac-495d-8c75-55c8735d8362",
   "metadata": {},
   "source": [
    "### User inputs"
   ]
  },
  {
   "cell_type": "code",
   "execution_count": 9,
   "id": "64e6b9c6-66a5-4af4-af20-d18cbb4421a1",
   "metadata": {},
   "outputs": [
    {
     "name": "stdin",
     "output_type": "stream",
     "text": [
      "Inserisci il tuo Nome completo: Biagio Lista\n"
     ]
    }
   ],
   "source": [
    "# la funzione input() viene utilizzato per gestire gli input dell'utente\n",
    "a = input(\"Inserisci il tuo Nome completo:\")"
   ]
  },
  {
   "cell_type": "code",
   "execution_count": 13,
   "id": "b23c4771-ca20-40e1-8c73-6cd522ddb18b",
   "metadata": {},
   "outputs": [
    {
     "name": "stdin",
     "output_type": "stream",
     "text": [
      "Inserisci numero: 9\n"
     ]
    },
    {
     "name": "stdout",
     "output_type": "stream",
     "text": [
      "<class 'str'>\n"
     ]
    }
   ],
   "source": [
    "user_number = input(\"Inserisci numero:\")\n",
    "print(type(user_number))\n"
   ]
  },
  {
   "cell_type": "code",
   "execution_count": 14,
   "id": "acb7e10f-838f-4e72-8ebb-8b795723bbeb",
   "metadata": {},
   "outputs": [
    {
     "name": "stdin",
     "output_type": "stream",
     "text": [
      "Inserisci numero: 2\n",
      "Inserisci numero: 5\n"
     ]
    },
    {
     "name": "stdout",
     "output_type": "stream",
     "text": [
      "<class 'int'>\n",
      "<class 'float'>\n"
     ]
    }
   ],
   "source": [
    "user_number1 = int(input(\"Inserisci numero:\"))\n",
    "user_number2 = float(input(\"Inserisci numero:\"))\n",
    "\n",
    "print(type(user_number1))\n",
    "print(type(user_number2))\n"
   ]
  },
  {
   "cell_type": "markdown",
   "id": "5eff2d9a-f80f-45a6-ad63-8920eb23c5aa",
   "metadata": {},
   "source": [
    "### Data type conversion"
   ]
  },
  {
   "cell_type": "code",
   "execution_count": 1,
   "id": "a4c9ba2f-20a0-4ed5-a8a5-1111f03ed981",
   "metadata": {},
   "outputs": [],
   "source": [
    "# Conversione di un input:\n",
    "# str(input) -> in stringa\n",
    "# int(input) -> in un numero intero\n",
    "# float(input) -> in un floating point"
   ]
  },
  {
   "cell_type": "code",
   "execution_count": 5,
   "id": "37cf8707-cacd-419b-ac92-f422d0430b28",
   "metadata": {},
   "outputs": [
    {
     "name": "stdout",
     "output_type": "stream",
     "text": [
      "'stringa' è di classe <class 'str'>\n",
      "'stringa_convertita' è di classe <class 'int'>\n"
     ]
    }
   ],
   "source": [
    "stringa = \"9\"\n",
    "stringa_convertita = int(stringa) \n",
    "\n",
    "print(f\"'stringa' è di classe {type(stringa)}\")\n",
    "print(f\"'stringa_convertita' è di classe {type(stringa_convertita)}\")"
   ]
  },
  {
   "cell_type": "markdown",
   "id": "46160d8a-ea77-4c8b-99c9-300154f04ab1",
   "metadata": {},
   "source": [
    "### Cicli\n",
    "- For Loop and While Loop;\n",
    "- Condition statements."
   ]
  },
  {
   "cell_type": "code",
   "execution_count": 11,
   "id": "aba33c62-ee3a-4f9e-86e5-54ca11bd0e30",
   "metadata": {},
   "outputs": [
    {
     "name": "stdout",
     "output_type": "stream",
     "text": [
      "0\n",
      "1\n",
      "2\n",
      "3\n",
      "4\n"
     ]
    }
   ],
   "source": [
    "#For loop -> Ciclo che viene eseguito per un numero di cicli predefinito\n",
    "for i in [0,1,2,3,4]:\n",
    "    print(i)"
   ]
  },
  {
   "cell_type": "code",
   "execution_count": 16,
   "id": "3936c73a-8dc8-4fbf-ae1f-612b164bd933",
   "metadata": {},
   "outputs": [
    {
     "name": "stdout",
     "output_type": "stream",
     "text": [
      "0\n",
      "2\n",
      "4\n"
     ]
    }
   ],
   "source": [
    "for i in range(0,5,2):   #range(inizio, fine + 1 , passo)\n",
    "    print(i)"
   ]
  },
  {
   "cell_type": "code",
   "execution_count": 22,
   "id": "49f89787-0d16-4fdb-aedd-7fe0f62f0122",
   "metadata": {},
   "outputs": [
    {
     "name": "stdout",
     "output_type": "stream",
     "text": [
      "0\n",
      "1\n",
      "2\n",
      "3\n",
      "4\n"
     ]
    }
   ],
   "source": [
    "# While loop -> Ciclo che continua ad essere eseguito fino a quando non si verifica un evento\n",
    "i = 0\n",
    "while i < 5:\n",
    "    print(i)\n",
    "    i += 1\n"
   ]
  },
  {
   "cell_type": "code",
   "execution_count": 25,
   "id": "c1c4476f-bf76-43c5-82d3-300d9fb2c26f",
   "metadata": {},
   "outputs": [
    {
     "name": "stdin",
     "output_type": "stream",
     "text": [
      "Inserisci un pianeta Earth\n",
      "Inserisci un pianeta QUIT\n"
     ]
    }
   ],
   "source": [
    "ct = 0\n",
    "while True:\n",
    "    obj = input('Inserisci un pianeta')\n",
    "    if obj.lower() == \"quit\":\n",
    "        break\n",
    "        "
   ]
  },
  {
   "cell_type": "code",
   "execution_count": null,
   "id": "e92405e4-28d0-422a-91b4-b99853586513",
   "metadata": {},
   "outputs": [],
   "source": [
    "if i == 2:\n",
    "    return\n",
    "elif "
   ]
  },
  {
   "cell_type": "code",
   "execution_count": null,
   "id": "37425eaa-d97f-4226-a2cc-9e2350bd8e53",
   "metadata": {},
   "outputs": [],
   "source": []
  },
  {
   "cell_type": "code",
   "execution_count": null,
   "id": "562fbf5d-4e34-4a2f-b1bf-9c265c23a924",
   "metadata": {},
   "outputs": [],
   "source": []
  }
 ],
 "metadata": {
  "kernelspec": {
   "display_name": "Python 3 (ipykernel)",
   "language": "python",
   "name": "python3"
  },
  "language_info": {
   "codemirror_mode": {
    "name": "ipython",
    "version": 3
   },
   "file_extension": ".py",
   "mimetype": "text/x-python",
   "name": "python",
   "nbconvert_exporter": "python",
   "pygments_lexer": "ipython3",
   "version": "3.12.3"
  }
 },
 "nbformat": 4,
 "nbformat_minor": 5
}
