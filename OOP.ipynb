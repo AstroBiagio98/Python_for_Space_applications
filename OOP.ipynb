{
 "cells": [
  {
   "cell_type": "markdown",
   "id": "ee56fdb1-b163-4c6d-b520-144389a94e2e",
   "metadata": {},
   "source": [
    "# Let's build a Class"
   ]
  },
  {
   "cell_type": "code",
   "execution_count": 1,
   "id": "ac7716d1-fa59-4108-b9bc-85f2d7ff5b12",
   "metadata": {},
   "outputs": [],
   "source": [
    "class Rocket():\n",
    "    pass"
   ]
  },
  {
   "cell_type": "markdown",
   "id": "67b2d6a3-98d2-437b-b55f-a5608792e56a",
   "metadata": {},
   "source": [
    "### 2) Add attributes to this class\n",
    "\n",
    "* Add x and y coordinates and set them to zero"
   ]
  },
  {
   "cell_type": "code",
   "execution_count": 9,
   "id": "98430148-9b3f-4f4b-851c-8b9a4ea7306f",
   "metadata": {},
   "outputs": [],
   "source": [
    "class Rocket():\n",
    "    #I am initialize the attributes for thi class by means of the constructor method __init__()\n",
    "    def __init__(self):\n",
    "        self.x = 0\n",
    "        self.y = 0"
   ]
  },
  {
   "cell_type": "code",
   "execution_count": 6,
   "id": "b8c18a4e-7d8b-4ec4-9a88-397e72acf326",
   "metadata": {},
   "outputs": [
    {
     "name": "stdout",
     "output_type": "stream",
     "text": [
      "<__main__.Rocket object at 0x0000029C105472F0>\n"
     ]
    },
    {
     "data": {
      "text/plain": [
       "__main__.Rocket"
      ]
     },
     "execution_count": 6,
     "metadata": {},
     "output_type": "execute_result"
    }
   ],
   "source": [
    "# I created an object from Rocket class\n",
    "Rocket1 = Rocket()\n",
    "print(Rocket1)\n",
    "type(Rocket1)"
   ]
  },
  {
   "cell_type": "code",
   "execution_count": 8,
   "id": "1e416f46-9791-49f1-a5ba-3c904c562d0b",
   "metadata": {},
   "outputs": [
    {
     "name": "stdout",
     "output_type": "stream",
     "text": [
      "x coordinate for Rocket1 is 0\n",
      "y coordinate for Rocket1 is 0\n"
     ]
    }
   ],
   "source": [
    "#Attributes of the object created\n",
    "print(f\"x coordinate for Rocket1 is {Rocket1.x}\")\n",
    "print(f\"y coordinate for Rocket1 is {Rocket1.y}\")"
   ]
  },
  {
   "cell_type": "markdown",
   "id": "64fffb41-7e75-4f7c-8013-bb1998834851",
   "metadata": {},
   "source": [
    "### 3) I am going to create a method that make the Rocket move up"
   ]
  },
  {
   "cell_type": "code",
   "execution_count": 10,
   "id": "7b11a553-c488-4dee-bbc5-866eaad79943",
   "metadata": {},
   "outputs": [],
   "source": [
    "class Rocket():\n",
    "    #I am initialize the attributes for thi class by means of the constructor method __init__()\n",
    "    def __init__(self):\n",
    "        self.x = 0\n",
    "        self.y = 0\n",
    "\n",
    "     # Let's add a behaviour:\n",
    "    def move_up(self):\n",
    "        self.y = self.y + 1 # or self.y += 1\n",
    "        \n"
   ]
  },
  {
   "cell_type": "code",
   "execution_count": 11,
   "id": "2406edf1-3fe5-41b2-8561-2b646e7ea5f9",
   "metadata": {},
   "outputs": [
    {
     "name": "stdout",
     "output_type": "stream",
     "text": [
      "Current position of the rocket is (0,0)\n",
      "Updated position of the rocket is (0,1)\n",
      "Updated position of the rocket is (0,2)\n",
      "Updated position of the rocket is (0,3)\n"
     ]
    }
   ],
   "source": [
    "Orion = Rocket()\n",
    "\n",
    "print(f\"Current position of the rocket is ({Orion.x},{Orion.y})\")\n",
    "\n",
    "for i in range(1,4):\n",
    "    Orion.move_up()\n",
    "    print(f\"Updated position of the rocket is ({Orion.x},{Orion.y})\")"
   ]
  },
  {
   "cell_type": "markdown",
   "id": "4ed136f8-12ce-48a4-8562-ed40310db19f",
   "metadata": {},
   "source": [
    "### 4) Build more Rocket objects"
   ]
  },
  {
   "cell_type": "code",
   "execution_count": 12,
   "id": "a5e7c049-f989-4e57-8ebb-c65ff9923e8a",
   "metadata": {},
   "outputs": [],
   "source": [
    "# I will create two more rocket objects\n",
    "Orchid = Rocket()\n",
    "Rohan = Rocket()"
   ]
  },
  {
   "cell_type": "code",
   "execution_count": 13,
   "id": "1ea5ccfe-471f-4f19-8a92-8a5936c60fdb",
   "metadata": {},
   "outputs": [
    {
     "name": "stdout",
     "output_type": "stream",
     "text": [
      "<__main__.Rocket object at 0x0000029C105929C0>\n",
      "<__main__.Rocket object at 0x0000029C106201D0>\n",
      "<__main__.Rocket object at 0x0000029C10620740>\n"
     ]
    }
   ],
   "source": [
    "for obj in (Orion, Orchid, Rohan):\n",
    "    print(obj)"
   ]
  },
  {
   "cell_type": "code",
   "execution_count": 18,
   "id": "d733bc7a-654e-4534-84e1-1dbbedcfb7f3",
   "metadata": {},
   "outputs": [
    {
     "name": "stdout",
     "output_type": "stream",
     "text": [
      "Orion is located in (0, 3)\n",
      "Orchid is located in (0, 0)\n",
      "Rohan is located in (0, 0)\n"
     ]
    }
   ],
   "source": [
    "# Let's print the current location of all of the rockets created\n",
    "for obj, name in (zip((Orion, Orchid, Rohan), (\"Orion\", \"Orchid\", \"Rohan\"))):\n",
    "    print(f\"{name} is located in {obj.x, obj.y}\")"
   ]
  },
  {
   "cell_type": "code",
   "execution_count": 19,
   "id": "71a26c09-8bf4-48bf-898f-4768c50730ad",
   "metadata": {},
   "outputs": [],
   "source": [
    "# Let's move up the rocket Orchid\n",
    "Orchid.move_up()"
   ]
  },
  {
   "cell_type": "code",
   "execution_count": 20,
   "id": "c6957cbf-b0c2-487b-885e-910bee91af24",
   "metadata": {},
   "outputs": [
    {
     "name": "stdout",
     "output_type": "stream",
     "text": [
      "Orion is located in (0, 3)\n",
      "Orchid is located in (0, 1)\n",
      "Rohan is located in (0, 0)\n"
     ]
    }
   ],
   "source": [
    "# Let's print the new location of all of the rockets created\n",
    "for obj, name in (zip((Orion, Orchid, Rohan), (\"Orion\", \"Orchid\", \"Rohan\"))):\n",
    "    print(f\"{name} is located in {obj.x, obj.y}\")"
   ]
  },
  {
   "cell_type": "code",
   "execution_count": null,
   "id": "e570bdc9-280c-4eae-89a6-00acdde86434",
   "metadata": {},
   "outputs": [],
   "source": []
  }
 ],
 "metadata": {
  "kernelspec": {
   "display_name": "Python 3 (ipykernel)",
   "language": "python",
   "name": "python3"
  },
  "language_info": {
   "codemirror_mode": {
    "name": "ipython",
    "version": 3
   },
   "file_extension": ".py",
   "mimetype": "text/x-python",
   "name": "python",
   "nbconvert_exporter": "python",
   "pygments_lexer": "ipython3",
   "version": "3.12.7"
  }
 },
 "nbformat": 4,
 "nbformat_minor": 5
}
