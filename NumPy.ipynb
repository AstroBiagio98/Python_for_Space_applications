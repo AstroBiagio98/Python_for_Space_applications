{
 "cells": [
  {
   "cell_type": "code",
   "execution_count": 4,
   "id": "89e817c7-522f-416c-890e-1bfb94bdb368",
   "metadata": {},
   "outputs": [],
   "source": [
    "import numpy as np"
   ]
  },
  {
   "cell_type": "markdown",
   "id": "7ddc7ab0-54dd-40d5-8e84-aa7a4bfc6225",
   "metadata": {},
   "source": [
    "### Convert a list into a numpy array"
   ]
  },
  {
   "cell_type": "code",
   "execution_count": 6,
   "id": "ae989d22-d736-47b0-a73c-bf1b8bfe3c40",
   "metadata": {},
   "outputs": [
    {
     "name": "stdout",
     "output_type": "stream",
     "text": [
      "<class 'list'>\n",
      "<class 'numpy.ndarray'>\n"
     ]
    }
   ],
   "source": [
    "lista = [1, 4 , 7, 0.6, 9]\n",
    "array = np.array(list)\n",
    "\n",
    "print(type(lista))\n",
    "print(type(array))"
   ]
  },
  {
   "cell_type": "code",
   "execution_count": 8,
   "id": "d86f2595-7fa3-473f-b02c-53101af8aed1",
   "metadata": {},
   "outputs": [
    {
     "name": "stdout",
     "output_type": "stream",
     "text": [
      "[1 2 3 4 5]\n"
     ]
    }
   ],
   "source": [
    "# I want to create a 1d array\n",
    "\n",
    "array1 = np.array([1,2,3,4,5])\n",
    "print(array1)\n"
   ]
  },
  {
   "cell_type": "code",
   "execution_count": 10,
   "id": "e539b8f2-65b4-449e-a8b9-0579ca515329",
   "metadata": {},
   "outputs": [
    {
     "data": {
      "text/plain": [
       "dtype('int32')"
      ]
     },
     "execution_count": 10,
     "metadata": {},
     "output_type": "execute_result"
    }
   ],
   "source": [
    "type(array1) #<---data structure\n",
    "\n",
    "array1.dtype #<--- data type"
   ]
  },
  {
   "cell_type": "code",
   "execution_count": 20,
   "id": "7dd9e7b0-7a0f-44b3-a66d-670bc79e02c1",
   "metadata": {},
   "outputs": [
    {
     "data": {
      "text/plain": [
       "1"
      ]
     },
     "execution_count": 20,
     "metadata": {},
     "output_type": "execute_result"
    }
   ],
   "source": [
    "array1.ndim #<--- dimension of an array"
   ]
  },
  {
   "cell_type": "code",
   "execution_count": 22,
   "id": "412a27f9-428c-45d4-9ec3-046673c560a8",
   "metadata": {},
   "outputs": [
    {
     "name": "stdout",
     "output_type": "stream",
     "text": [
      "2\n",
      "[[1 2 3 4 5]]\n"
     ]
    }
   ],
   "source": [
    "# I want to create a 2d array\n",
    "\n",
    "array2 = np.array([[1,2,3,4,5]])\n",
    "print(array2.ndim)\n",
    "print(array2)"
   ]
  },
  {
   "cell_type": "code",
   "execution_count": 26,
   "id": "f8ea578e-3d98-4291-aa0a-42216345375a",
   "metadata": {},
   "outputs": [
    {
     "name": "stdout",
     "output_type": "stream",
     "text": [
      "(5,)\n",
      "(1, 5)\n"
     ]
    }
   ],
   "source": [
    "print(array1.shape)\n",
    "print(array2.shape)"
   ]
  },
  {
   "cell_type": "code",
   "execution_count": 32,
   "id": "dcce79cf-ce94-4973-ba78-697018e82a51",
   "metadata": {},
   "outputs": [],
   "source": [
    "array3 = np.array([[1, 2, 3],\n",
    "          [4, 5, 6],\n",
    "          [7, 8, 9]], dtype = np.float32)"
   ]
  },
  {
   "cell_type": "code",
   "execution_count": 34,
   "id": "bcbb62c9-8fb2-437a-9f95-8ae974eee345",
   "metadata": {},
   "outputs": [
    {
     "name": "stdout",
     "output_type": "stream",
     "text": [
      "(3, 3)\n",
      "2\n",
      "float32\n"
     ]
    }
   ],
   "source": [
    "print(array3.shape)\n",
    "print(array3.ndim)\n",
    "print(array3.dtype)"
   ]
  },
  {
   "cell_type": "code",
   "execution_count": 36,
   "id": "fbc7e324-9ffe-426a-b3a2-e58b596d11c6",
   "metadata": {},
   "outputs": [
    {
     "name": "stdout",
     "output_type": "stream",
     "text": [
      "(5, 1)\n",
      "2\n"
     ]
    }
   ],
   "source": [
    "array4 = np.array([[1],[2],[3],[4],[5]])\n",
    "print(array4.shape)\n",
    "print(array4.ndim)"
   ]
  },
  {
   "cell_type": "markdown",
   "id": "1208851f-a6b5-4bbe-ac16-6a53f2083795",
   "metadata": {},
   "source": [
    "### Ways to create arrays"
   ]
  },
  {
   "cell_type": "code",
   "execution_count": 40,
   "id": "d93e12ca-74bd-4a2b-a642-d664beade830",
   "metadata": {},
   "outputs": [
    {
     "name": "stdout",
     "output_type": "stream",
     "text": [
      "[1 2 3 4 5 6 7 8 9]\n"
     ]
    }
   ],
   "source": [
    "# 1) np.arange(inizio, fine + 1, passo) (Array of range)\n",
    "arange_arr = np.arange(1,10, 1)\n",
    "print(arange_arr)"
   ]
  },
  {
   "cell_type": "code",
   "execution_count": 42,
   "id": "6da4c9ff-9e6b-4113-affc-f4845f781bdf",
   "metadata": {},
   "outputs": [
    {
     "name": "stdout",
     "output_type": "stream",
     "text": [
      "[[1 2 3]\n",
      " [4 5 6]\n",
      " [7 8 9]]\n"
     ]
    },
    {
     "data": {
      "text/plain": [
       "dtype('int32')"
      ]
     },
     "execution_count": 42,
     "metadata": {},
     "output_type": "execute_result"
    }
   ],
   "source": [
    "reshaped_array = arange_arr.reshape(3, 3)\n",
    "print(reshaped_array)\n",
    "\n",
    "reshaped_array.dtype"
   ]
  },
  {
   "cell_type": "code",
   "execution_count": 44,
   "id": "f5aba141-164d-4174-bbb4-7c9e16a23f97",
   "metadata": {},
   "outputs": [
    {
     "name": "stdout",
     "output_type": "stream",
     "text": [
      "float32\n"
     ]
    }
   ],
   "source": [
    "# Convert this into a float32 data type\n",
    "reshaped_array_float = reshaped_array.astype(np.float32)\n",
    "print(reshaped_array_float.dtype)"
   ]
  },
  {
   "cell_type": "code",
   "execution_count": 94,
   "id": "c18423e2-07c1-4b7a-bbed-7a0ef5228e60",
   "metadata": {},
   "outputs": [
    {
     "name": "stdout",
     "output_type": "stream",
     "text": [
      "[1.   1.75 2.5  3.25 4.  ]\n",
      "float64\n",
      "float32\n"
     ]
    }
   ],
   "source": [
    "# 2) linspace(inizio, fine, numero_di_elementi)\n",
    "array_lin = np.linspace(1, 4, 5)\n",
    "print(array_lin)\n",
    "print(array_lin.dtype)\n",
    "array_lin_float32 = array_lin.astype(np.float32)\n",
    "print(array_lin_float32.dtype)"
   ]
  },
  {
   "cell_type": "code",
   "execution_count": 64,
   "id": "3fcdcb1e-45f3-48f6-8bb4-8ddfd87fad9f",
   "metadata": {},
   "outputs": [
    {
     "name": "stdout",
     "output_type": "stream",
     "text": [
      "zeros_array_int8 = [0 0]\n",
      "\n",
      "\n",
      "[[0 0]\n",
      " [0 0]]\n",
      "int8\n"
     ]
    }
   ],
   "source": [
    "# 3) np.zeros(shape, DataType)  --> può essere utilizzato per inizializzare un array di zero\n",
    "zeros_array_int8 = np.zeros(2,\"int8\")\n",
    "print(\"zeros_array_int8 =\", zeros_array_int8)\n",
    "print(\"\\n\")\n",
    "\n",
    "zeros_array = np.zeros((2,2), np.int8)\n",
    "print(zeros_array)\n",
    "print(zeros_array.dtype)"
   ]
  },
  {
   "cell_type": "code",
   "execution_count": 79,
   "id": "79ecaf41-245a-4892-b7e3-97ed095bc74b",
   "metadata": {},
   "outputs": [
    {
     "name": "stdout",
     "output_type": "stream",
     "text": [
      "[[1 1 1]\n",
      " [1 1 1]\n",
      " [1 1 1]]\n"
     ]
    }
   ],
   "source": [
    "# 4) ones(shape, DataType) --> Array di uno\n",
    "ones_array_int8 = np.ones((3,3),\"int8\")\n",
    "print(ones_array_int8)"
   ]
  },
  {
   "cell_type": "markdown",
   "id": "ca486bf7-4687-46c7-84ba-ee89db82398a",
   "metadata": {},
   "source": [
    "## Random module of NumPy\n",
    "- Random.Rand\n",
    "- Random.Randint\n",
    "- Seed Value"
   ]
  },
  {
   "cell_type": "markdown",
   "id": "55c0aa1f-727e-441a-aabe-fde6226884d6",
   "metadata": {},
   "source": [
    "Let's create arrays of random numbers"
   ]
  },
  {
   "cell_type": "code",
   "execution_count": 112,
   "id": "1a6d85f8-fb3e-4702-8b7d-a87f9965a05d",
   "metadata": {},
   "outputs": [
    {
     "name": "stdout",
     "output_type": "stream",
     "text": [
      "[[0.88030176 0.14180787]]\n"
     ]
    }
   ],
   "source": [
    "# Array of random numbers between 0 (incl) and 1 (excl)\n",
    "random_array = np.random.rand(1,2) # rand((shape))\n",
    "print(random_array)"
   ]
  },
  {
   "cell_type": "code",
   "execution_count": 114,
   "id": "ad39e1ca-4388-49a6-800b-9d659dc2ca19",
   "metadata": {},
   "outputs": [
    {
     "name": "stdout",
     "output_type": "stream",
     "text": [
      "[[7 8]\n",
      " [9 5]]\n"
     ]
    }
   ],
   "source": [
    "# Array of random integer numbers (low inclused and high excluded)\n",
    "random_array_int = np.random.randint(low = 2, high = 11, size = (2,2))\n",
    "print(random_array_int)"
   ]
  },
  {
   "cell_type": "code",
   "execution_count": 122,
   "id": "8ae1e79d-a540-47bd-9573-51cffb3b20c9",
   "metadata": {},
   "outputs": [
    {
     "data": {
      "text/plain": [
       "array([[5, 8],\n",
       "       [8, 2]])"
      ]
     },
     "execution_count": 122,
     "metadata": {},
     "output_type": "execute_result"
    }
   ],
   "source": [
    "# Random.seed -> Fix an array with the same type of randomness\n",
    "np.random.seed(5)\n",
    "random_array_int = np.random.randint(low = 2, high = 11, size = (2,2))\n",
    "random_array_int"
   ]
  },
  {
   "cell_type": "code",
   "execution_count": null,
   "id": "70ff070b-d331-46fe-99c7-9c9848e78375",
   "metadata": {},
   "outputs": [],
   "source": []
  }
 ],
 "metadata": {
  "kernelspec": {
   "display_name": "Python 3 (ipykernel)",
   "language": "python",
   "name": "python3"
  },
  "language_info": {
   "codemirror_mode": {
    "name": "ipython",
    "version": 3
   },
   "file_extension": ".py",
   "mimetype": "text/x-python",
   "name": "python",
   "nbconvert_exporter": "python",
   "pygments_lexer": "ipython3",
   "version": "3.12.3"
  }
 },
 "nbformat": 4,
 "nbformat_minor": 5
}
