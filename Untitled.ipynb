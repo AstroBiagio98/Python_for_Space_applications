{
 "cells": [
  {
   "cell_type": "code",
   "execution_count": 5,
   "id": "ae52ea0c-8686-4160-98e6-fd0d8d779c93",
   "metadata": {},
   "outputs": [
    {
     "name": "stdout",
     "output_type": "stream",
     "text": [
      "15.5\n"
     ]
    }
   ],
   "source": [
    "result = int(\"10\") + float(\"5.5\")\n",
    "print(result)\n"
   ]
  },
  {
   "cell_type": "code",
   "execution_count": 15,
   "id": "1a50db12-0807-4d0d-b805-42826aab8513",
   "metadata": {},
   "outputs": [
    {
     "name": "stdout",
     "output_type": "stream",
     "text": [
      "Hello, world!\n"
     ]
    }
   ],
   "source": [
    "text = \"hello, world!\"\n",
    "modified_text = text.title().upper().capitalize()\n",
    "print(modified_text)"
   ]
  },
  {
   "cell_type": "code",
   "execution_count": 19,
   "id": "31b2cc96-6c25-459e-acfb-aacb6d5d50c9",
   "metadata": {},
   "outputs": [
    {
     "name": "stdout",
     "output_type": "stream",
     "text": [
      "My name is Kulfi and I am 16 years old.\n"
     ]
    }
   ],
   "source": [
    "name = \"Kulfi\"\n",
    "age = 16\n",
    "sentence = f\"My name is {name} and I am {age} years old.\"\n",
    "\n",
    "print(sentence)"
   ]
  }
 ],
 "metadata": {
  "kernelspec": {
   "display_name": "Python 3 (ipykernel)",
   "language": "python",
   "name": "python3"
  },
  "language_info": {
   "codemirror_mode": {
    "name": "ipython",
    "version": 3
   },
   "file_extension": ".py",
   "mimetype": "text/x-python",
   "name": "python",
   "nbconvert_exporter": "python",
   "pygments_lexer": "ipython3",
   "version": "3.12.3"
  }
 },
 "nbformat": 4,
 "nbformat_minor": 5
}
