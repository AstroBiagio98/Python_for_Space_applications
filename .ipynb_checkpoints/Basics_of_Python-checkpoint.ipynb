{
 "cells": [
  {
   "cell_type": "markdown",
   "id": "ca0b8fad-aa8a-4d20-a387-39297071839d",
   "metadata": {},
   "source": [
    "# Basics of Python"
   ]
  },
  {
   "cell_type": "markdown",
   "id": "3a17d18d-752b-430a-a1c7-f02160452788",
   "metadata": {},
   "source": [
    "### Commenti"
   ]
  },
  {
   "cell_type": "code",
   "execution_count": 1,
   "id": "ef05fa7e-8142-4f43-a4be-5d5200cdea71",
   "metadata": {},
   "outputs": [
    {
     "data": {
      "text/plain": [
       "'\\nCiao, mi chiamo Biagio Lista!\\nCome va???\\n'"
      ]
     },
     "execution_count": 1,
     "metadata": {},
     "output_type": "execute_result"
    }
   ],
   "source": [
    "\"\"\"\n",
    "Ciao, mi chiamo Biagio Lista!\n",
    "Come va???\n",
    "\"\"\""
   ]
  },
  {
   "cell_type": "code",
   "execution_count": 2,
   "id": "a67eef51-fb4b-45fe-b059-172e071b4477",
   "metadata": {},
   "outputs": [],
   "source": [
    "#Ciao, mi chiamo Biagio Lista!\n",
    "#Come va???"
   ]
  },
  {
   "cell_type": "markdown",
   "id": "10b605c5-78bd-4f76-9486-bff060c82626",
   "metadata": {},
   "source": [
    "### Variabili e costanti"
   ]
  },
  {
   "cell_type": "code",
   "execution_count": 8,
   "id": "4b1644af-4ca8-4bfc-841f-4bed749e3879",
   "metadata": {},
   "outputs": [
    {
     "name": "stdout",
     "output_type": "stream",
     "text": [
      "x assume il valore di  20\n"
     ]
    }
   ],
   "source": [
    "# x e y sono dei contenitori a cui vengono assegnati dei valori\n",
    "x = 6 \n",
    "y = 8\n",
    "\n",
    "x = x*2 + y\n",
    "print(\"x assume il valore di \",x)\n",
    "\n",
    "# Le variabili, definibili con lettere minuscole, sono delle grandezze che vedranno una variazione del \n",
    "# valore a loro inizialmente associato.\n",
    "\n",
    "# Le costanti, invece, sono definiti con le lettere maiuscole e non variano il valore da loro contenuto."
   ]
  },
  {
   "cell_type": "markdown",
   "id": "dfae6deb-58b5-4fc4-8db3-711c9cc0c882",
   "metadata": {},
   "source": [
    "### Stringhe\n",
    "\n"
   ]
  },
  {
   "cell_type": "code",
   "execution_count": null,
   "id": "6837aa4a-8fdc-485c-a79f-2ed0d8d6ab12",
   "metadata": {},
   "outputs": [],
   "source": []
  }
 ],
 "metadata": {
  "kernelspec": {
   "display_name": "Python 3 (ipykernel)",
   "language": "python",
   "name": "python3"
  },
  "language_info": {
   "codemirror_mode": {
    "name": "ipython",
    "version": 3
   },
   "file_extension": ".py",
   "mimetype": "text/x-python",
   "name": "python",
   "nbconvert_exporter": "python",
   "pygments_lexer": "ipython3",
   "version": "3.12.7"
  }
 },
 "nbformat": 4,
 "nbformat_minor": 5
}
