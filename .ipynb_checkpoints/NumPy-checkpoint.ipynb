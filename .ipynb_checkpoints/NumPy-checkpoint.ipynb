{
 "cells": [
  {
   "cell_type": "code",
   "execution_count": 1,
   "id": "89e817c7-522f-416c-890e-1bfb94bdb368",
   "metadata": {},
   "outputs": [],
   "source": [
    "import numpy as np"
   ]
  },
  {
   "cell_type": "markdown",
   "id": "7ddc7ab0-54dd-40d5-8e84-aa7a4bfc6225",
   "metadata": {},
   "source": [
    "### Convert a list into a numpy array"
   ]
  },
  {
   "cell_type": "code",
   "execution_count": 4,
   "id": "ae989d22-d736-47b0-a73c-bf1b8bfe3c40",
   "metadata": {},
   "outputs": [
    {
     "name": "stdout",
     "output_type": "stream",
     "text": [
      "<class 'list'>\n",
      "<class 'numpy.ndarray'>\n"
     ]
    }
   ],
   "source": [
    "lista = [1, 4 , 7, 0.6, 9]\n",
    "array = np.array(list)\n",
    "\n",
    "print(type(lista))\n",
    "print(type(array))"
   ]
  },
  {
   "cell_type": "code",
   "execution_count": 12,
   "id": "d86f2595-7fa3-473f-b02c-53101af8aed1",
   "metadata": {},
   "outputs": [
    {
     "name": "stdout",
     "output_type": "stream",
     "text": [
      "[1 2 3 4 5]\n"
     ]
    }
   ],
   "source": [
    "# I want to create a 1d array\n",
    "\n",
    "array1 = np.array([1,2,3,4,5])\n",
    "print(array1)\n"
   ]
  },
  {
   "cell_type": "code",
   "execution_count": 18,
   "id": "e539b8f2-65b4-449e-a8b9-0579ca515329",
   "metadata": {},
   "outputs": [
    {
     "data": {
      "text/plain": [
       "dtype('int32')"
      ]
     },
     "execution_count": 18,
     "metadata": {},
     "output_type": "execute_result"
    }
   ],
   "source": [
    "type(array1) #<---data structure\n",
    "\n",
    "array1.dtype #<--- data type"
   ]
  },
  {
   "cell_type": "code",
   "execution_count": 22,
   "id": "7dd9e7b0-7a0f-44b3-a66d-670bc79e02c1",
   "metadata": {},
   "outputs": [
    {
     "data": {
      "text/plain": [
       "1"
      ]
     },
     "execution_count": 22,
     "metadata": {},
     "output_type": "execute_result"
    }
   ],
   "source": [
    "array1.ndim #<--- dimension of an array"
   ]
  },
  {
   "cell_type": "code",
   "execution_count": 26,
   "id": "412a27f9-428c-45d4-9ec3-046673c560a8",
   "metadata": {},
   "outputs": [
    {
     "name": "stdout",
     "output_type": "stream",
     "text": [
      "2\n"
     ]
    }
   ],
   "source": [
    "# I want to create a 2d array\n",
    "\n",
    "array2 = np.array([[1,2,3,4,5]])\n",
    "print(array2.ndim)"
   ]
  },
  {
   "cell_type": "code",
   "execution_count": 28,
   "id": "f8ea578e-3d98-4291-aa0a-42216345375a",
   "metadata": {},
   "outputs": [
    {
     "name": "stdout",
     "output_type": "stream",
     "text": [
      "(5,)\n",
      "(1, 5)\n"
     ]
    }
   ],
   "source": [
    "print(array1.shape)\n",
    "print(array2.shape)"
   ]
  },
  {
   "cell_type": "code",
   "execution_count": 44,
   "id": "dcce79cf-ce94-4973-ba78-697018e82a51",
   "metadata": {},
   "outputs": [],
   "source": [
    "array3 = np.array([[1, 2, 3],\n",
    "          [4, 5, 6],\n",
    "          [7, 8, 9]], dtype = \"float\")"
   ]
  },
  {
   "cell_type": "code",
   "execution_count": 46,
   "id": "bcbb62c9-8fb2-437a-9f95-8ae974eee345",
   "metadata": {},
   "outputs": [
    {
     "name": "stdout",
     "output_type": "stream",
     "text": [
      "(3, 3)\n",
      "2\n",
      "float64\n"
     ]
    }
   ],
   "source": [
    "print(array3.shape)\n",
    "print(array3.ndim)\n",
    "print(array3.dtype)"
   ]
  },
  {
   "cell_type": "code",
   "execution_count": 50,
   "id": "fbc7e324-9ffe-426a-b3a2-e58b596d11c6",
   "metadata": {},
   "outputs": [
    {
     "name": "stdout",
     "output_type": "stream",
     "text": [
      "(5, 1)\n"
     ]
    }
   ],
   "source": [
    "array4 = np.array([[1],[2],[3],[4],[5]])\n",
    "print(array4.shape)"
   ]
  },
  {
   "cell_type": "code",
   "execution_count": null,
   "id": "10140b6d-e177-4365-a342-a5cbdb494cef",
   "metadata": {},
   "outputs": [],
   "source": []
  }
 ],
 "metadata": {
  "kernelspec": {
   "display_name": "Python 3 (ipykernel)",
   "language": "python",
   "name": "python3"
  },
  "language_info": {
   "codemirror_mode": {
    "name": "ipython",
    "version": 3
   },
   "file_extension": ".py",
   "mimetype": "text/x-python",
   "name": "python",
   "nbconvert_exporter": "python",
   "pygments_lexer": "ipython3",
   "version": "3.12.3"
  }
 },
 "nbformat": 4,
 "nbformat_minor": 5
}
